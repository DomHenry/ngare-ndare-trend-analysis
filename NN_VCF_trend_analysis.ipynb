{
  "nbformat": 4,
  "nbformat_minor": 0,
  "metadata": {
    "colab": {
      "provenance": [],
      "toc_visible": true,
      "authorship_tag": "ABX9TyPnajHKXbWdejseSRCoaQuq",
      "include_colab_link": true
    },
    "kernelspec": {
      "name": "python3",
      "display_name": "Python 3"
    },
    "language_info": {
      "name": "python"
    }
  },
  "cells": [
    {
      "cell_type": "markdown",
      "metadata": {
        "id": "view-in-github",
        "colab_type": "text"
      },
      "source": [
        "<a href=\"https://colab.research.google.com/github/DomHenry/ngare-ndare-trend-analysis/blob/master/NN_VCF_trend_analysis.ipynb\" target=\"_parent\"><img src=\"https://colab.research.google.com/assets/colab-badge.svg\" alt=\"Open In Colab\"/></a>"
      ]
    },
    {
      "cell_type": "markdown",
      "source": [
        "# Import and start up EE"
      ],
      "metadata": {
        "id": "VOp5ZC3avQRp"
      }
    },
    {
      "cell_type": "code",
      "source": [
        "# Only installs for the session\n",
        "!pip install geemap --quiet"
      ],
      "metadata": {
        "id": "Q6bbwZduGm6n",
        "colab": {
          "base_uri": "https://localhost:8080/"
        },
        "outputId": "6be93a95-86a7-4361-8c34-8de4c736816d"
      },
      "execution_count": null,
      "outputs": [
        {
          "output_type": "stream",
          "name": "stdout",
          "text": [
            "\u001b[2K     \u001b[90m━━━━━━━━━━━━━━━━━━━━━━━━━━━━━━━━━━━━━━━━\u001b[0m \u001b[32m2.2/2.2 MB\u001b[0m \u001b[31m33.4 MB/s\u001b[0m eta \u001b[36m0:00:00\u001b[0m\n",
            "\u001b[2K     \u001b[90m━━━━━━━━━━━━━━━━━━━━━━━━━━━━━━━━━━━━━━━\u001b[0m \u001b[32m130.5/130.5 kB\u001b[0m \u001b[31m8.6 MB/s\u001b[0m eta \u001b[36m0:00:00\u001b[0m\n",
            "\u001b[2K     \u001b[90m━━━━━━━━━━━━━━━━━━━━━━━━━━━━━━━━━━━━━━━━\u001b[0m \u001b[32m3.2/3.2 MB\u001b[0m \u001b[31m52.3 MB/s\u001b[0m eta \u001b[36m0:00:00\u001b[0m\n",
            "\u001b[2K     \u001b[90m━━━━━━━━━━━━━━━━━━━━━━━━━━━━━━━━━━━━━━━━\u001b[0m \u001b[32m3.7/3.7 MB\u001b[0m \u001b[31m43.0 MB/s\u001b[0m eta \u001b[36m0:00:00\u001b[0m\n",
            "\u001b[2K     \u001b[90m━━━━━━━━━━━━━━━━━━━━━━━━━━━━━━━━━━━━━━━━\u001b[0m \u001b[32m98.6/98.6 kB\u001b[0m \u001b[31m1.8 MB/s\u001b[0m eta \u001b[36m0:00:00\u001b[0m\n",
            "\u001b[?25h  Preparing metadata (setup.py) ... \u001b[?25l\u001b[?25hdone\n",
            "\u001b[2K     \u001b[90m━━━━━━━━━━━━━━━━━━━━━━━━━━━━━━━━━━━━━━━━\u001b[0m \u001b[32m1.2/1.2 MB\u001b[0m \u001b[31m40.1 MB/s\u001b[0m eta \u001b[36m0:00:00\u001b[0m\n",
            "\u001b[2K     \u001b[90m━━━━━━━━━━━━━━━━━━━━━━━━━━━━━━━━━━━━━━━━\u001b[0m \u001b[32m1.3/1.3 MB\u001b[0m \u001b[31m34.3 MB/s\u001b[0m eta \u001b[36m0:00:00\u001b[0m\n",
            "\u001b[2K     \u001b[90m━━━━━━━━━━━━━━━━━━━━━━━━━━━━━━━━━━━━━━━━\u001b[0m \u001b[32m55.4/55.4 kB\u001b[0m \u001b[31m2.4 MB/s\u001b[0m eta \u001b[36m0:00:00\u001b[0m\n",
            "\u001b[2K     \u001b[90m━━━━━━━━━━━━━━━━━━━━━━━━━━━━━━━━━━━━━━━━\u001b[0m \u001b[32m1.6/1.6 MB\u001b[0m \u001b[31m11.2 MB/s\u001b[0m eta \u001b[36m0:00:00\u001b[0m\n",
            "\u001b[?25h  Building wheel for pyperclip (setup.py) ... \u001b[?25l\u001b[?25hdone\n"
          ]
        }
      ]
    },
    {
      "cell_type": "code",
      "source": [
        "import ee\n",
        "import geemap\n",
        "import geemap.colormaps as cm"
      ],
      "metadata": {
        "id": "sPyB17KKeLUM"
      },
      "execution_count": null,
      "outputs": []
    },
    {
      "cell_type": "code",
      "execution_count": null,
      "metadata": {
        "id": "sOoUxFdhSmti",
        "colab": {
          "base_uri": "https://localhost:8080/"
        },
        "outputId": "5ef3797f-9622-4649-efcd-6f8faa516779"
      },
      "outputs": [
        {
          "output_type": "stream",
          "name": "stdout",
          "text": [
            "To authorize access needed by Earth Engine, open the following URL in a web browser and follow the instructions. If the web browser does not start automatically, please manually browse the URL below.\n",
            "\n",
            "    https://code.earthengine.google.com/client-auth?scopes=https%3A//www.googleapis.com/auth/earthengine%20https%3A//www.googleapis.com/auth/devstorage.full_control&request_id=4wtkyDqTcB9dcsc--81FfVq4Du5pi4u0Q_ZubfRLEIU&tc=lkt9QZZWwbl78AKTq5KJMD6U5SdXU6BIGpHsy25sWbE&cc=p2h_OFq8euJNenzb5i76xpZprkF6V3NH7gVOWK-llQU\n",
            "\n",
            "The authorization workflow will generate a code, which you should paste in the box below.\n",
            "Enter verification code: 4/1AbUR2VOxGhr-xLUnfQi2c_rtNfvHj9LPemPQpBkcL-Iz3R9AwmKZFE0DGog\n",
            "\n",
            "Successfully saved authorization token.\n"
          ]
        }
      ],
      "source": [
        "# Trigger the authentication flow.\n",
        "ee.Authenticate()\n",
        "\n",
        "# Initialize the library.\n",
        "ee.Initialize()"
      ]
    },
    {
      "cell_type": "markdown",
      "source": [
        "## AOI and input parameters"
      ],
      "metadata": {
        "id": "bfkTUiRk1B5f"
      }
    },
    {
      "cell_type": "code",
      "execution_count": null,
      "metadata": {
        "id": "1qEgQ1Wk0atv"
      },
      "outputs": [],
      "source": [
        "# Area of interest\n",
        "aoi = ee.FeatureCollection(\"projects/ns-agol-rs-data/assets/ngare_ndare\")\n",
        "aoi_name = \"Ngare_Ndare\"\n",
        "\n",
        "# Date parameters\n",
        "start_year = 2000\n",
        "end_year = 2020\n",
        "\n",
        "# Specify bands\n",
        "band_choice = \"Percent_Tree_Cover\"\n",
        "band_name = \"tree_cov\"\n",
        "\n",
        "# band_choice = \"Percent_NonTree_Vegetation\"\n",
        "# band_name = \"non_tree_veg_cov\"\n",
        "\n",
        "# band_choice = \"Percent_NonVegetated\"\n",
        "# band_name = \"nonveg_cov\"\n",
        "\n",
        "# VCF\n",
        "modis = ee.ImageCollection(\"MODIS/006/MOD44B\")\n",
        "\n",
        "start = ee.Date.fromYMD(start_year, 1, 1)\n",
        "end = ee.Date.fromYMD(end_year, 12, 31)\n",
        "date_range = ee.DateRange(start, end)\n",
        "\n",
        "coll = modis.select(band_choice) \\\n",
        "    .filterBounds(aoi) \\\n",
        "    .filterDate(date_range)\n"
      ]
    },
    {
      "cell_type": "markdown",
      "source": [
        "## Trend analysis\n"
      ],
      "metadata": {
        "id": "T6zLUQ52RlCA"
      }
    },
    {
      "cell_type": "code",
      "source": [
        "# cm.list_colormaps()\n",
        "pal = cm.palettes.viridis \n",
        "print(pal)\n",
        "\n",
        "# Convert the image collection to an image.\n",
        "image = coll.toBands()\n",
        "\n",
        "veg_vis = {\n",
        "  'min': 0.0,\n",
        "  'max': 100,\n",
        "  'palette': pal\n",
        "}\n",
        "\n",
        "Map = geemap.Map()\n",
        "\n",
        "Map.addLayer(image, {}, 'VCF Time-series', shown=False)\n",
        "Map.addLayer(image.select(0).clip(aoi), veg_vis, 'VCF VIS')\n",
        "Map.center_object(aoi, zoom=10)\n"
      ],
      "metadata": {
        "colab": {
          "base_uri": "https://localhost:8080/",
          "height": 54
        },
        "id": "q_puZO3NOaur",
        "outputId": "44579d54-0230-4f75-815d-4d4e412419fc"
      },
      "execution_count": null,
      "outputs": [
        {
          "output_type": "stream",
          "name": "stdout",
          "text": [
            "{'default': ('440154', '440256', '450457', '450559', '46075a', '46085c', '460a5d', '460b5e', '470d60', '470e61', '471063', '471164', '471365', '481467', '481668', '481769', '48186a', '481a6c', '481b6d', '481c6e', '481d6f', '481f70', '482071', '482173', '482374', '482475', '482576', '482677', '482878', '482979', '472a7a', '472c7a', '472d7b', '472e7c', '472f7d', '46307e', '46327e', '46337f', '463480', '453581', '453781', '453882', '443983', '443a83', '443b84', '433d84', '433e85', '423f85', '424086', '424186', '414287', '414487', '404588', '404688', '3f4788', '3f4889', '3e4989', '3e4a89', '3e4c8a', '3d4d8a', '3d4e8a', '3c4f8a', '3c508b', '3b518b', '3b528b', '3a538b', '3a548c', '39558c', '39568c', '38588c', '38598c', '375a8c', '375b8d', '365c8d', '365d8d', '355e8d', '355f8d', '34608d', '34618d', '33628d', '33638d', '32648e', '32658e', '31668e', '31678e', '31688e', '30698e', '306a8e', '2f6b8e', '2f6c8e', '2e6d8e', '2e6e8e', '2e6f8e', '2d708e', '2d718e', '2c718e', '2c728e', '2c738e', '2b748e', '2b758e', '2a768e', '2a778e', '2a788e', '29798e', '297a8e', '297b8e', '287c8e', '287d8e', '277e8e', '277f8e', '27808e', '26818e', '26828e', '26828e', '25838e', '25848e', '25858e', '24868e', '24878e', '23888e', '23898e', '238a8d', '228b8d', '228c8d', '228d8d', '218e8d', '218f8d', '21908d', '21918c', '20928c', '20928c', '20938c', '1f948c', '1f958b', '1f968b', '1f978b', '1f988b', '1f998a', '1f9a8a', '1e9b8a', '1e9c89', '1e9d89', '1f9e89', '1f9f88', '1fa088', '1fa188', '1fa187', '1fa287', '20a386', '20a486', '21a585', '21a685', '22a785', '22a884', '23a983', '24aa83', '25ab82', '25ac82', '26ad81', '27ad81', '28ae80', '29af7f', '2ab07f', '2cb17e', '2db27d', '2eb37c', '2fb47c', '31b57b', '32b67a', '34b679', '35b779', '37b878', '38b977', '3aba76', '3bbb75', '3dbc74', '3fbc73', '40bd72', '42be71', '44bf70', '46c06f', '48c16e', '4ac16d', '4cc26c', '4ec36b', '50c46a', '52c569', '54c568', '56c667', '58c765', '5ac864', '5cc863', '5ec962', '60ca60', '63cb5f', '65cb5e', '67cc5c', '69cd5b', '6ccd5a', '6ece58', '70cf57', '73d056', '75d054', '77d153', '7ad151', '7cd250', '7fd34e', '81d34d', '84d44b', '86d549', '89d548', '8bd646', '8ed645', '90d743', '93d741', '95d840', '98d83e', '9bd93c', '9dd93b', 'a0da39', 'a2da37', 'a5db36', 'a8db34', 'aadc32', 'addc30', 'b0dd2f', 'b2dd2d', 'b5de2b', 'b8de29', 'bade28', 'bddf26', 'c0df25', 'c2df23', 'c5e021', 'c8e020', 'cae11f', 'cde11d', 'd0e11c', 'd2e21b', 'd5e21a', 'd8e219', 'dae319', 'dde318', 'dfe318', 'e2e418', 'e5e419', 'e7e419', 'eae51a', 'ece51b', 'efe51c', 'f1e51d', 'f4e61e', 'f6e620', 'f8e621', 'fbe723', 'fde725'), 'n03': ('440154', '21918c', 'fde725'), 'n04': ('440154', '31688e', '35b779', 'fde725'), 'n05': ('440154', '3b528b', '21918c', '5ec962', 'fde725'), 'n06': ('440154', '414487', '2a788e', '22a884', '7ad151', 'fde725'), 'n07': ('440154', '443983', '31688e', '21918c', '35b779', '90d743', 'fde725'), 'n08': ('440154', '46327e', '365c8d', '277f8e', '1fa187', '4ac16d', 'a0da39', 'fde725'), 'n09': ('440154', '472d7b', '3b528b', '2c728e', '21918c', '28ae80', '5ec962', 'addc30', 'fde725'), 'n10': ('440154', '482878', '3e4989', '31688e', '26828e', '1f9e89', '35b779', '6ece58', 'b5de2b', 'fde725'), 'n11': ('440154', '482475', '414487', '355f8d', '2a788e', '21918c', '22a884', '44bf70', '7ad151', 'bddf26', 'fde725'), 'n12': ('440154', '482173', '433e85', '38588c', '2d708e', '25858e', '1e9b8a', '2ab07f', '52c569', '86d549', 'c2df23', 'fde725')}\n"
          ]
        }
      ]
    },
    {
      "cell_type": "markdown",
      "source": [
        "### Kendall"
      ],
      "metadata": {
        "id": "lxnY-ND-KTfu"
      }
    },
    {
      "cell_type": "code",
      "source": [
        "# Define the join condition\n",
        "afterFilter = ee.Filter.lessThan(\n",
        "    leftField='system:time_start',\n",
        "    rightField='system:time_start'\n",
        ")\n",
        "\n",
        "# Perform the join\n",
        "joined = ee.Join.saveAll('after').apply(\n",
        "    primary=coll, \n",
        "    secondary=coll, \n",
        "    condition=afterFilter\n",
        ")\n",
        "\n",
        "def sign(i, j):\n",
        "    # i and j are images\n",
        "    return ee.Image(j).neq(i).multiply(ee.Image(j).subtract(i).clamp(-1, 1)).int()\n",
        "\n",
        "kendall = ee.ImageCollection(joined.map(lambda current: (\n",
        "    ee.ImageCollection.fromImages(current.get('after')).map(lambda image: (\n",
        "        # The unmask is to prevent accumulation of masked pixels that result from the undefined case of when either current or image is masked. It won't affect the sum, since it's unmasked to zero.\n",
        "        ee.Image(sign(current, image)).unmask(0)\n",
        "    ))\n",
        ")).flatten()).reduce('sum', 2).clip(aoi)\n",
        "\n",
        "kendall_vis = {\n",
        "  'min':-100,\n",
        "  'max': 100,\n",
        "  'palette': cm.palettes.viridis\n",
        "}\n",
        "\n",
        "Map.addLayer(kendall, kendall_vis, 'kendall')"
      ],
      "metadata": {
        "id": "x2HU1EFeHw5_"
      },
      "execution_count": null,
      "outputs": []
    },
    {
      "cell_type": "markdown",
      "source": [
        "### Sens slope"
      ],
      "metadata": {
        "id": "pPT54XruKV2a"
      }
    },
    {
      "cell_type": "code",
      "source": [
        "def slope(i, j):\n",
        "    # i and j are images\n",
        "    slope = ee.Image(j).subtract(i) \\\n",
        "                .divide(ee.Image(j).date().difference(ee.Image(i).date(), 'days')) \\\n",
        "                .rename('slope') \\\n",
        "                .float()\n",
        "    return slope\n",
        "    \n",
        "slopes = ee.ImageCollection(joined.map(lambda current: \n",
        "                           ee.ImageCollection.fromImages(current.get('after')) \\\n",
        "                             .map(lambda image: slope(current, image)) \\\n",
        "                         ).flatten())\n",
        "\n",
        "sensSlope = slopes.reduce(ee.Reducer.median(), 2).clip(aoi) # Set parallelScale.\n",
        "\n",
        "sensSlope_vis = {\n",
        "  'min':-0.005,\n",
        "  'max': 0.005,\n",
        "  'palette': cm.palettes.viridis\n",
        "}\n",
        "\n",
        "Map.addLayer(sensSlope, sensSlope_vis, 'sensSlope')"
      ],
      "metadata": {
        "id": "mkT4qB0yJPQz"
      },
      "execution_count": null,
      "outputs": []
    },
    {
      "cell_type": "markdown",
      "source": [
        "### Sens intercept"
      ],
      "metadata": {
        "id": "HClPcHdlKbAm"
      }
    },
    {
      "cell_type": "code",
      "source": [
        "epochDate = ee.Date('1970-01-01')\n",
        "\n",
        "def calculate_sens_intercept(image):\n",
        "    epochDays = image.date().difference(epochDate, 'days').float()\n",
        "    return image.subtract(sensSlope.multiply(epochDays)).float()\n",
        "\n",
        "sensIntercept = coll.map(calculate_sens_intercept) \\\n",
        "                    .reduce(ee.Reducer.median(), 2) \\\n",
        "                    .clip(aoi)\n",
        "\n",
        "Map.addLayer(sensIntercept, {}, 'sensIntercept')"
      ],
      "metadata": {
        "id": "W0yJBeghKe8n"
      },
      "execution_count": null,
      "outputs": []
    },
    {
      "cell_type": "markdown",
      "source": [
        "### Variance of the Mann-Kendall"
      ],
      "metadata": {
        "id": "3y7ZcbSULkds"
      }
    },
    {
      "cell_type": "code",
      "source": [
        "# Values that are in a group (ties).  Set all else to zero.\n",
        "groups = coll.map(lambda i: coll.map(lambda j: i.eq(j)).sum().gt(1).multiply(i))\n",
        "\n",
        "# Compute tie group sizes in a sequence.  The first group is discarded.\n",
        "def group(array):\n",
        "  length = array.arrayLength(0)\n",
        "  # Array of indices.  These are 1-indexed.\n",
        "  indices = ee.Image([1]) \\\n",
        "      .arrayRepeat(0, length) \\\n",
        "      .arrayAccum(0, ee.Reducer.sum()) \\\n",
        "      .toArray(1)\n",
        "  sorted = array.arraySort()\n",
        "  left = sorted.arraySlice(0, 1)\n",
        "  right = sorted.arraySlice(0, 0, -1)\n",
        "  # Indices of the end of runs.\n",
        "  mask = left.neq(right) \\\n",
        "      .arrayCat(ee.Image(ee.Array([[1]])), 0)\n",
        "  runIndices = indices.arrayMask(mask)\n",
        "  # Subtract the indices to get run lengths.\n",
        "  groupSizes = runIndices.arraySlice(0, 1) \\\n",
        "      .subtract(runIndices.arraySlice(0, 0, -1))\n",
        "  return groupSizes\n",
        "\n",
        "# See equation 2.6 in Sen (1968).\n",
        "def factors(image):\n",
        "  return image.expression('b() * (b() - 1) * (b() * 2 + 5)')\n",
        "\n",
        "groupSizes = group(groups.toArray())\n",
        "groupFactors = factors(groupSizes)\n",
        "groupFactorSum = groupFactors.arrayReduce('sum', [0]) \\\n",
        "      .arrayGet([0, 0])\n",
        "\n",
        "count = coll.count()\n",
        "\n",
        "kendallVariance = factors(count) \\\n",
        "    .subtract(groupFactorSum) \\\n",
        "    .divide(18) \\\n",
        "    .float().clip(aoi)\n",
        "Map.addLayer(kendallVariance, {}, 'kendallVariance')"
      ],
      "metadata": {
        "id": "Ms74xWCaM3Eo"
      },
      "execution_count": null,
      "outputs": []
    },
    {
      "cell_type": "markdown",
      "source": [
        "### Significance\n",
        "\n"
      ],
      "metadata": {
        "id": "KyJJN1VjNbur"
      }
    },
    {
      "cell_type": "code",
      "source": [
        "# Compute Z-statistics\n",
        "zero = kendall.multiply(kendall.eq(0))\n",
        "pos = kendall.multiply(kendall.gt(0)).subtract(1)\n",
        "neg = kendall.multiply(kendall.lt(0)).add(1)\n",
        "\n",
        "z = zero.add(pos.divide(kendallVariance.sqrt())).add(neg.divide(kendallVariance.sqrt())).clip(aoi)\n",
        "Map.addLayer(z, {'min': -2, 'max': 2}, 'z')\n",
        "\n",
        "# CDF function\n",
        "def eeCdf(z):\n",
        "    return ee.Image(0.5).multiply(ee.Image(1).add(ee.Image(z).divide(ee.Image(2).sqrt()).erf()))\n",
        "\n",
        "# Inverse CDF function\n",
        "def invCdf(p):\n",
        "    return ee.Image(2).sqrt().multiply(ee.Image(p).multiply(2).subtract(1).erfInv()).clip(aoi)\n",
        "\n",
        "# Compute P-values\n",
        "p = ee.Image(1).subtract(eeCdf(z.abs())).clip(aoi)\n",
        "Map.addLayer(p, {'min': 0, 'max': 1}, 'p')\n",
        "\n",
        "# Pixels that can have the null hypothesis (there is no trend) rejected.\n",
        "# Specifically, if the true trend is zero, there would be less than 5%\n",
        "# chance of randomly obtaining the observed result (that there is a trend).\n",
        "Map.addLayer(p.lte(0.025), {'min': 0, 'max': 1}, 'significant trends')\n",
        "# Map"
      ],
      "metadata": {
        "id": "DoaoNDTnNmjy"
      },
      "execution_count": null,
      "outputs": []
    },
    {
      "cell_type": "markdown",
      "source": [
        "## Export trend analysis layers\n",
        "\n",
        "TODO: Export image collection so that I can write code to plot pixel-level time series (using imagetoBand function). Plotting in ggplot?"
      ],
      "metadata": {
        "id": "BF0UkfsJVBXy"
      }
    },
    {
      "cell_type": "code",
      "source": [
        "ken_name = f\"{aoi_name}_{start_year}_to_{end_year}_kendall_{band_name}\"\n",
        "\n",
        "task = ee.batch.Export.image.toDrive(image = kendall.toDouble(),\n",
        "                                     region = aoi.geometry(),\n",
        "                                     description = \"EXPORT IMAGE TO DRIVE\",\n",
        "                                     folder = \"GEE_exports\",\n",
        "                                     fileNamePrefix = ken_name,\n",
        "                                     scale = 200,\n",
        "                                     maxPixels = 10e12\n",
        "                                     )\n",
        "task.start()"
      ],
      "metadata": {
        "id": "xfSc_MGHVEJF"
      },
      "execution_count": null,
      "outputs": []
    },
    {
      "cell_type": "code",
      "source": [
        "sens_name = f\"{aoi_name}_{start_year}_to_{end_year}_sens_slope_{band_name}\"\n",
        "\n",
        "task = ee.batch.Export.image.toDrive(image = sensSlope,\n",
        "                                     region = aoi.geometry(),\n",
        "                                     description = \"EXPORT IMAGE TO DRIVE\",\n",
        "                                     folder = \"GEE_exports\",\n",
        "                                     fileNamePrefix = sens_name,\n",
        "                                     scale = 200,\n",
        "                                     maxPixels = 10e12\n",
        "                                     )\n",
        "task.start()"
      ],
      "metadata": {
        "id": "AOmV23QUXSTP"
      },
      "execution_count": null,
      "outputs": []
    },
    {
      "cell_type": "code",
      "source": [
        "sig_name = f\"{aoi_name}_{start_year}_to_{end_year}_significant_{band_name}\"\n",
        "\n",
        "task = ee.batch.Export.image.toDrive(image = p.lte(0.025),\n",
        "                                     region = aoi.geometry(),\n",
        "                                     description = \"EXPORT IMAGE TO DRIVE\",\n",
        "                                     folder = \"GEE_exports\",\n",
        "                                     fileNamePrefix = sig_name,\n",
        "                                     scale = 200,\n",
        "                                     maxPixels = 10e12\n",
        "                                     )\n",
        "task.start()\n"
      ],
      "metadata": {
        "id": "UwdpWufjX-LW"
      },
      "execution_count": null,
      "outputs": []
    },
    {
      "cell_type": "code",
      "source": [
        "pval_name = f\"{aoi_name}_{start_year}_to_{end_year}_pvalue_{band_name}\"\n",
        "\n",
        "task = ee.batch.Export.image.toDrive(image = p,\n",
        "                                     region = aoi.geometry(),\n",
        "                                     description = \"EXPORT IMAGE TO DRIVE\",\n",
        "                                     folder = \"GEE_exports\",\n",
        "                                     fileNamePrefix = pval_name,\n",
        "                                     scale = 200,\n",
        "                                     maxPixels = 10e12\n",
        "                                     )\n",
        "task.start()\n"
      ],
      "metadata": {
        "id": "NMZlht9WYwSo"
      },
      "execution_count": null,
      "outputs": []
    },
    {
      "cell_type": "code",
      "source": [
        "task.status()"
      ],
      "metadata": {
        "id": "sJNtgWBKWJlc",
        "colab": {
          "base_uri": "https://localhost:8080/"
        },
        "outputId": "ff499c64-9e5c-4b1e-e75b-417fe82117c0"
      },
      "execution_count": null,
      "outputs": [
        {
          "output_type": "execute_result",
          "data": {
            "text/plain": [
              "{'state': 'READY',\n",
              " 'description': 'EXPORT IMAGE TO DRIVE',\n",
              " 'creation_timestamp_ms': 1683317184642,\n",
              " 'update_timestamp_ms': 1683317184642,\n",
              " 'start_timestamp_ms': 0,\n",
              " 'task_type': 'EXPORT_IMAGE',\n",
              " 'id': 'UEET5JWVIY4IYW7KWVHTAUBH',\n",
              " 'name': 'projects/earthengine-legacy/operations/UEET5JWVIY4IYW7KWVHTAUBH'}"
            ]
          },
          "metadata": {},
          "execution_count": 15
        }
      ]
    },
    {
      "cell_type": "markdown",
      "source": [
        "## Export annual images"
      ],
      "metadata": {
        "id": "glnRCc4KurGK"
      }
    },
    {
      "cell_type": "code",
      "source": [
        "year_list = ee.List(list(range(start_year, end_year+1)))\n",
        "\n",
        "def annual_image(focal_year):\n",
        "  start = ee.Date.fromYMD(focal_year, 1, 1)\n",
        "  end = ee.Date.fromYMD(focal_year, 12, 31)\n",
        "  date_range = ee.DateRange(start, end)\n",
        "  \n",
        "  return modis.select(band_choice) \\\n",
        "     .filterBounds(aoi) \\\n",
        "     .filterDate(date_range) \\\n",
        "     .mean() \\\n",
        "     .clip(aoi) \\\n",
        "     .set({\"year\": focal_year})\n",
        "\n",
        "annual_images = year_list.map(annual_image)\n",
        "print(annual_images.get(0).getInfo())\n"
      ],
      "metadata": {
        "colab": {
          "base_uri": "https://localhost:8080/"
        },
        "id": "V7fQO-a-u14n",
        "outputId": "50d9303e-797b-48fc-959d-785118b04ac2"
      },
      "execution_count": null,
      "outputs": [
        {
          "output_type": "stream",
          "name": "stdout",
          "text": [
            "{'type': 'Image', 'bands': [{'id': 'Percent_Tree_Cover', 'data_type': {'type': 'PixelType', 'precision': 'double', 'min': 0, 'max': 255}, 'crs': 'EPSG:4326', 'crs_transform': [1, 0, 0, 0, 1, 0]}], 'properties': {'year': 2000}}\n"
          ]
        }
      ]
    },
    {
      "cell_type": "code",
      "source": [
        "for i in range(ee.List.length(annual_images).getInfo()):\n",
        "  output_img = ee.Image(annual_images.get(i))\n",
        "  output_name = f\"{aoi_name}_{ee.String(output_img.get('year')).getInfo()}_{band_name}\"\n",
        "\n",
        "  task = ee.batch.Export.image.toDrive(image = output_img,\n",
        "                                      region = aoi.geometry(),\n",
        "                                      description = \"EXPORT IMAGE TO DRIVE\",\n",
        "                                      folder = \"GEE_exports\",\n",
        "                                      fileNamePrefix = output_name,\n",
        "                                      scale = 200,\n",
        "                                      maxPixels = 10e12\n",
        "                                      )\n",
        "  task.start()  "
      ],
      "metadata": {
        "id": "OaUyuv7O1s-P"
      },
      "execution_count": null,
      "outputs": []
    },
    {
      "cell_type": "code",
      "source": [
        "tasks = ee.batch.Task.list()\n",
        "for task in tasks[0:ee.List.length(year_list).getInfo()]:\n",
        "  task_id = task.status()['id']\n",
        "  task_state = task.status()['state']\n",
        "  print(task_id, task_state)"
      ],
      "metadata": {
        "id": "knwTlN-jwecW",
        "colab": {
          "base_uri": "https://localhost:8080/"
        },
        "outputId": "ee9c7839-cf2d-4aad-b7a1-79c6f8ce383c"
      },
      "execution_count": null,
      "outputs": [
        {
          "output_type": "stream",
          "name": "stdout",
          "text": [
            "SFXAGRKLX7JCBPD5C72RFVDK READY\n",
            "W56QBY2HQEOLTWNMMURM7654 READY\n",
            "RE647F7KQ3EA76F4SUOKFRVA READY\n",
            "JTEJGYJOF75X5I42QFTNMX4S READY\n",
            "ORUHS3RJL6XCTBHBYJQC4ZZS READY\n",
            "4NGPZAUR37KMBW6WNN3A4UST READY\n",
            "JD2QDOG7AS56GPN7SVRCSDXS READY\n",
            "CBYRMBKQGRPITRHZQI2Y4R65 READY\n",
            "HDLUZBFHQFUCPQ6LEV6ER5FP READY\n",
            "OV44L4N7ILLFTIDACKEHVIZE READY\n",
            "G6SGUTAVQTHFPDHAUREKPIUM READY\n",
            "7QUWEXE3MEI6KZ65LDYIFBNM READY\n",
            "47LWXAEDM2CM4MYHF3UIVUVJ READY\n",
            "QH2DRTTUURHIMRM5URQ576UY READY\n",
            "JP3DW3PWCKXIHJLBZ6WVYTEY READY\n",
            "LVRC635DECRZ2K63FL5IFCN2 READY\n",
            "HH7B53JRUVB7YPJQXDM6YCUP READY\n",
            "6LBXQT5GAVVNUKEZHBM5BKLF READY\n",
            "J666TKLYYCZKHYOBKBJQHSX6 READY\n",
            "YBLH3GK2JCIFKCD3A6BQOS7M COMPLETED\n",
            "HQYV4QKHC2S6BV7BWISUXNZZ COMPLETED\n"
          ]
        }
      ]
    },
    {
      "cell_type": "markdown",
      "source": [
        "## Export multi-band image collection"
      ],
      "metadata": {
        "id": "O0J1IV-jbGRk"
      }
    },
    {
      "cell_type": "code",
      "source": [
        "mb_image = coll.toBands()\n",
        "print(mb_image.bandNames().getInfo())\n",
        "\n",
        "output_name = f\"{aoi_name}_{start_year}_to_{end_year}_multiband_{band_name}\"\n",
        "\n",
        "task = ee.batch.Export.image.toDrive(image = mb_image,\n",
        "                                      region = aoi.geometry(),\n",
        "                                      description = \"EXPORT IMAGE TO DRIVE\",\n",
        "                                      folder = \"GEE_exports\",\n",
        "                                      fileNamePrefix = output_name,\n",
        "                                      scale = 200,\n",
        "                                      maxPixels = 10e12\n",
        "                                      )\n",
        "\n",
        "task.start()  "
      ],
      "metadata": {
        "colab": {
          "base_uri": "https://localhost:8080/"
        },
        "id": "9n_hg-UNbLSX",
        "outputId": "d2fda7d0-67e4-457d-9ffd-95b804537f68"
      },
      "execution_count": null,
      "outputs": [
        {
          "output_type": "stream",
          "name": "stdout",
          "text": [
            "['2000_03_05_Percent_Tree_Cover', '2001_03_06_Percent_Tree_Cover', '2002_03_06_Percent_Tree_Cover', '2003_03_06_Percent_Tree_Cover', '2004_03_05_Percent_Tree_Cover', '2005_03_06_Percent_Tree_Cover', '2006_03_06_Percent_Tree_Cover', '2007_03_06_Percent_Tree_Cover', '2008_03_05_Percent_Tree_Cover', '2009_03_06_Percent_Tree_Cover', '2010_03_06_Percent_Tree_Cover', '2011_03_06_Percent_Tree_Cover', '2012_03_05_Percent_Tree_Cover', '2013_03_06_Percent_Tree_Cover', '2014_03_06_Percent_Tree_Cover', '2015_03_06_Percent_Tree_Cover', '2016_03_05_Percent_Tree_Cover', '2017_03_06_Percent_Tree_Cover', '2018_03_06_Percent_Tree_Cover', '2019_03_06_Percent_Tree_Cover', '2020_03_05_Percent_Tree_Cover']\n"
          ]
        }
      ]
    }
  ]
}